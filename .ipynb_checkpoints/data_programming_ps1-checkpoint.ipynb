{
 "cells": [
  {
   "cell_type": "markdown",
   "id": "a66c2405",
   "metadata": {},
   "source": [
    "Q1:\n",
    "What data type is each of the following (evaluate where necessary)?"
   ]
  },
  {
   "cell_type": "code",
   "execution_count": 1,
   "id": "7146ecea",
   "metadata": {},
   "outputs": [
    {
     "name": "stdout",
     "output_type": "stream",
     "text": [
      "<class 'int'>\n"
     ]
    }
   ],
   "source": [
    "item1 = 5\n",
    "print(type(item1)) \n"
   ]
  },
  {
   "cell_type": "code",
   "execution_count": 2,
   "id": "61fdbd62",
   "metadata": {},
   "outputs": [
    {
     "name": "stdout",
     "output_type": "stream",
     "text": [
      "<class 'float'>\n"
     ]
    }
   ],
   "source": [
    "item2 = 5.0\n",
    "print(type(item2))"
   ]
  },
  {
   "cell_type": "code",
   "execution_count": 3,
   "id": "8f3374ad",
   "metadata": {},
   "outputs": [
    {
     "name": "stdout",
     "output_type": "stream",
     "text": [
      "<class 'bool'>\n"
     ]
    }
   ],
   "source": [
    "item3 = 5 > 1\n",
    "print(type(item3))"
   ]
  },
  {
   "cell_type": "code",
   "execution_count": 4,
   "id": "a9de2a3d",
   "metadata": {},
   "outputs": [
    {
     "name": "stdout",
     "output_type": "stream",
     "text": [
      "<class 'str'>\n"
     ]
    }
   ],
   "source": [
    "item4 = '5'\n",
    "print(type(item4))"
   ]
  },
  {
   "cell_type": "code",
   "execution_count": 5,
   "id": "fdb36fc0",
   "metadata": {},
   "outputs": [
    {
     "name": "stdout",
     "output_type": "stream",
     "text": [
      "<class 'int'>\n"
     ]
    }
   ],
   "source": [
    "item5 = 5 * 2\n",
    "print(type(item5))"
   ]
  },
  {
   "cell_type": "code",
   "execution_count": 6,
   "id": "37a97b7f",
   "metadata": {},
   "outputs": [
    {
     "name": "stdout",
     "output_type": "stream",
     "text": [
      "<class 'str'>\n"
     ]
    }
   ],
   "source": [
    "item6 = '5' * 2\n",
    "print(type(item6))"
   ]
  },
  {
   "cell_type": "code",
   "execution_count": 7,
   "id": "55e12abe",
   "metadata": {},
   "outputs": [
    {
     "name": "stdout",
     "output_type": "stream",
     "text": [
      "<class 'str'>\n"
     ]
    }
   ],
   "source": [
    "item7 = '5' + '2'\n",
    "print(type(item7))"
   ]
  },
  {
   "cell_type": "code",
   "execution_count": 8,
   "id": "bbafc469",
   "metadata": {},
   "outputs": [
    {
     "name": "stdout",
     "output_type": "stream",
     "text": [
      "<class 'float'>\n"
     ]
    }
   ],
   "source": [
    "item8 = 5 / 2\n",
    "print(type(item8))"
   ]
  },
  {
   "cell_type": "code",
   "execution_count": 9,
   "id": "8c9de357",
   "metadata": {},
   "outputs": [
    {
     "name": "stdout",
     "output_type": "stream",
     "text": [
      "<class 'int'>\n"
     ]
    }
   ],
   "source": [
    "item9 = 5 % 2\n",
    "print(type(item9))"
   ]
  },
  {
   "cell_type": "code",
   "execution_count": 10,
   "id": "8f1a2edd",
   "metadata": {},
   "outputs": [
    {
     "name": "stdout",
     "output_type": "stream",
     "text": [
      "<class 'list'>\n"
     ]
    }
   ],
   "source": [
    "item10 = [5, 2, 1]\n",
    "print(type(item10))"
   ]
  },
  {
   "cell_type": "code",
   "execution_count": 11,
   "id": "c0339eaf",
   "metadata": {},
   "outputs": [
    {
     "name": "stdout",
     "output_type": "stream",
     "text": [
      "<class 'bool'>\n"
     ]
    }
   ],
   "source": [
    "item11 = 5 == 3\n",
    "print(type(item11))"
   ]
  },
  {
   "cell_type": "code",
   "execution_count": null,
   "id": "b01e8b77",
   "metadata": {},
   "outputs": [],
   "source": [
    "import math\n",
    "item12 = math.pi\n",
    "print(type(item12))"
   ]
  },
  {
   "cell_type": "markdown",
   "id": "9dfd394a",
   "metadata": {},
   "source": [
    "Q2:\n",
    "Write (and evaluate) python expressions that answer these questions:\n",
    "\n"
   ]
  },
  {
   "cell_type": "markdown",
   "id": "b37daca0",
   "metadata": {},
   "source": [
    "a. How many letters are there in 'Supercalifragilisticexpialidocious'?\n"
   ]
  },
  {
   "cell_type": "code",
   "execution_count": 15,
   "id": "50bb415e",
   "metadata": {},
   "outputs": [
    {
     "name": "stdout",
     "output_type": "stream",
     "text": [
      "34\n"
     ]
    }
   ],
   "source": [
    "word = 'Supercalifragilisticexpialidocious'\n",
    "num_letters = len(word)\n",
    "print(num_letters)"
   ]
  },
  {
   "cell_type": "markdown",
   "id": "ab8f8cee",
   "metadata": {},
   "source": [
    "b. Does 'Supercalifragilisticexpialidocious' contain 'ice' as a substring? "
   ]
  },
  {
   "cell_type": "code",
   "execution_count": 16,
   "id": "d3ef1db7",
   "metadata": {},
   "outputs": [
    {
     "name": "stdout",
     "output_type": "stream",
     "text": [
      "True\n"
     ]
    }
   ],
   "source": [
    "word = 'Supercalifragilisticexpialidocious'\n",
    "substring = 'ice'\n",
    "contains_substring = substring in word\n",
    "print(contains_substring)"
   ]
  },
  {
   "cell_type": "markdown",
   "id": "21421936",
   "metadata": {},
   "source": [
    "c. Which of the following words is the longest:\n",
    "Supercalifragilisticexpialidocious, Honorificabilitudinitatibus, or\n",
    "Bababadalgharaghtakamminarronnkonn? "
   ]
  },
  {
   "cell_type": "code",
   "execution_count": 19,
   "id": "27d5d224",
   "metadata": {},
   "outputs": [
    {
     "name": "stdout",
     "output_type": "stream",
     "text": [
      "Supercalifragilisticexpialidocious\n"
     ]
    }
   ],
   "source": [
    "word1 = \"Supercalifragilisticexpialidocious\"\n",
    "word2 = \"Honorificabilitudinitatibus\"\n",
    "word3 = \"Bababadalgharaghtakamminarronnkonn\"\n",
    "\n",
    "longest_word = max(word1, word2, word3, key=len)\n",
    "print(longest_word) "
   ]
  },
  {
   "cell_type": "markdown",
   "id": "bc378d48",
   "metadata": {},
   "source": [
    "d. Which composer comes first in the dictionary: 'Berlioz', 'Borodin', 'Brian',\n",
    "'Bartok', 'Bellini', 'Buxtehude', 'Bernstein'. Which one comes last?\n"
   ]
  },
  {
   "cell_type": "code",
   "execution_count": 21,
   "id": "6e1bc04d",
   "metadata": {},
   "outputs": [
    {
     "name": "stdout",
     "output_type": "stream",
     "text": [
      "First Composer: Bartok\n",
      "Last Composer: Buxtehude\n"
     ]
    }
   ],
   "source": [
    "composers = ['Berlioz', 'Borodin', 'Brian', 'Bartok', 'Bellini', 'Buxtehude', 'Bernstein']\n",
    "\n",
    "first_composer = min(composers)\n",
    "last_composer = max(composers)\n",
    "\n",
    "print(\"First Composer:\", first_composer)\n",
    "print(\"Last Composer:\", last_composer)"
   ]
  },
  {
   "cell_type": "markdown",
   "id": "1d3194be",
   "metadata": {},
   "source": [
    "Question 3\n",
    "Implement function triangleArea(a,b,c) that takes as input the lengths of the 3\n",
    "sides of a triangle and returns the area of the triangle. By Heron's formula, the area\n",
    "of a triangle with side lengths a, b, and c is\n",
    "s(s - a)(s -b)(s -c)\n",
    ", where\n",
    "s = (a+b+c)/2.\n",
    ">>> triangleArea(2,2,2)\n",
    "1.7320508075688772"
   ]
  },
  {
   "cell_type": "code",
   "execution_count": 11,
   "id": "a1058d2d",
   "metadata": {},
   "outputs": [
    {
     "name": "stdout",
     "output_type": "stream",
     "text": [
      "1.7320508075688772\n"
     ]
    }
   ],
   "source": [
    "import math\n",
    "\n",
    "def triangleArea(a, b, c):\n",
    "    s = (a + b + c) / 2  \n",
    "    area = math.sqrt(s * (s - a) * (s - b) * (s - c))  \n",
    "    return area\n",
    "\n",
    "# Test the function\n",
    "result = triangleArea(2, 2, 2)\n",
    "print(result) "
   ]
  },
  {
   "cell_type": "markdown",
   "id": "73c2e2e3",
   "metadata": {},
   "source": [
    "Question 4\n",
    "Write a program in python to separate odd and even integers in separate arrays. Go\n",
    "to the editor\n",
    "Test Data :\n",
    "Input the number of elements to be stored in the array :5\n",
    "Input 5 elements in the array :\n",
    "element - 0 : 25\n",
    "element - 1 : 47\n",
    "element - 2 : 42\n",
    "element - 3 : 56\n",
    "element - 4 : 32\n",
    "Expected Output:\n",
    "The Even elements are:\n",
    "42 56 32\n",
    "The Odd elements are :\n",
    "25 47"
   ]
  },
  {
   "cell_type": "code",
   "execution_count": 1,
   "id": "a69e63d5",
   "metadata": {},
   "outputs": [
    {
     "name": "stdout",
     "output_type": "stream",
     "text": [
      "Input the number of elements to be stored in the array: 5\n",
      "element - 0 : 25\n",
      "element - 1 : 47\n",
      "element - 2 : 42\n",
      "element - 3 : 56\n",
      "element - 4 : 32\n"
     ]
    }
   ],
   "source": [
    "def separate_odd_even(arr):\n",
    "    even = []\n",
    "    odd = []\n",
    "    \n",
    "    for num in arr:\n",
    "        if num % 2 == 0:\n",
    "            even.append(num)\n",
    "        else:\n",
    "            odd.append(num)\n",
    "    \n",
    "    return even, odd\n",
    "\n",
    "# Main program\n",
    "n = int(input(\"Input the number of elements to be stored in the array: \"))\n",
    "\n",
    "# Input elements in the array\n",
    "arr = []\n",
    "for i in range(n):\n",
    "    num = int(input(f\"element - {i} : \"))\n",
    "    arr.append(num)\n",
    "\n",
    "# Separate odd and even elements\n",
    "even_elements, odd_elements = separate_odd_even(arr)\n",
    "    \n",
    "\n"
   ]
  },
  {
   "cell_type": "code",
   "execution_count": 2,
   "id": "5970622c",
   "metadata": {},
   "outputs": [
    {
     "name": "stdout",
     "output_type": "stream",
     "text": [
      "The Even elements are:\n",
      "42 56 32 "
     ]
    }
   ],
   "source": [
    "print(\"The Even elements are:\")\n",
    "for num in even_elements:\n",
    "    print(num, end=\" \")\n"
   ]
  },
  {
   "cell_type": "code",
   "execution_count": 3,
   "id": "02b8864d",
   "metadata": {},
   "outputs": [
    {
     "name": "stdout",
     "output_type": "stream",
     "text": [
      "\n",
      "The Odd elements are:\n",
      "25 47 "
     ]
    }
   ],
   "source": [
    "print(\"\\nThe Odd elements are:\")\n",
    "for num in odd_elements:\n",
    "    print(num, end=\" \")"
   ]
  },
  {
   "cell_type": "markdown",
   "id": "f251630d",
   "metadata": {},
   "source": [
    "Q5:\n",
    "a. Write a function inside(x,y,x1,y1,x2,y2) that returns True or False\n",
    "depending on whether the point (x,y) lies in the rectangle with lower left\n",
    "corner (x1,y1) and upper right corner (x2,y2).\n",
    "\n"
   ]
  },
  {
   "cell_type": "code",
   "execution_count": 4,
   "id": "654fe59e",
   "metadata": {},
   "outputs": [],
   "source": [
    "def inside(x, y, x1, y1, x2, y2):\n",
    "    if x >= x1 and x <= x2 and y >= y1 and y <= y2:\n",
    "        return True\n",
    "    else:\n",
    "        return False"
   ]
  },
  {
   "cell_type": "code",
   "execution_count": 6,
   "id": "891b371f",
   "metadata": {},
   "outputs": [
    {
     "name": "stdout",
     "output_type": "stream",
     "text": [
      "True\n"
     ]
    }
   ],
   "source": [
    "print(inside(1,1,0,0,2,3))"
   ]
  },
  {
   "cell_type": "code",
   "execution_count": 7,
   "id": "2e8d2567",
   "metadata": {},
   "outputs": [
    {
     "name": "stdout",
     "output_type": "stream",
     "text": [
      "False\n"
     ]
    }
   ],
   "source": [
    "print(inside(-1,-1,0,0,2,3))"
   ]
  },
  {
   "cell_type": "markdown",
   "id": "b817caba",
   "metadata": {},
   "source": [
    "b. Use function inside() from part a. to write an expression that tests whether\n",
    "the point (1,1) lies in both of the following rectangles: one with lower left\n",
    "corner (0.3, 0.5) and upper right corner (1.1, 0.7) and the other with lower\n",
    "left corner (0.5, 0.2) and upper right corner (1.1, 2). "
   ]
  },
  {
   "cell_type": "code",
   "execution_count": 9,
   "id": "518347dd",
   "metadata": {},
   "outputs": [
    {
     "data": {
      "text/plain": [
       "False"
      ]
     },
     "execution_count": 9,
     "metadata": {},
     "output_type": "execute_result"
    }
   ],
   "source": [
    "inside(1,1,0.3,0.5,1.1,0.7) and inside(1,1,0.5,0.2,1.1,2)"
   ]
  },
  {
   "cell_type": "markdown",
   "id": "d1fac8dc",
   "metadata": {},
   "source": [
    "Q6: You can turn a word into pig-Latin using the following two rules (simplified):\n",
    "• If the word starts with a consonant, move that letter to the end and append\n",
    "'ay'. For example, 'happy' becomes 'appyhay' and 'pencil' becomes 'encilpay'.\n",
    "• If the word starts with a vowel, simply append 'way' to the end of the word.\n",
    "For example, 'enter' becomes 'enterway' and 'other' becomes 'otherway' . For\n",
    "our purposes, there are 5 vowels: a, e, i, o, u (so we count y as a consonant).\n",
    "Write a function pig() that takes a word (i.e., a string) as input and returns its pigLatin form. Your function should still work if the input word contains upper case\n",
    "characters. Your output should always be lower case however.\n"
   ]
  },
  {
   "cell_type": "code",
   "execution_count": 10,
   "id": "e61e4fe1",
   "metadata": {},
   "outputs": [],
   "source": [
    "def pig(word):\n",
    "    vowels = ['a', 'e', 'i', 'o', 'u']\n",
    "    word = word.lower()  \n",
    "    \n",
    "    if word[0] in vowels:\n",
    "        pig_word = word + 'way'\n",
    "    else:\n",
    "        pig_word = word[1:] + word[0] + 'ay'\n",
    "    \n",
    "    return pig_word"
   ]
  },
  {
   "cell_type": "code",
   "execution_count": 14,
   "id": "1fec5d62",
   "metadata": {},
   "outputs": [
    {
     "name": "stdout",
     "output_type": "stream",
     "text": [
      "appyhay\n"
     ]
    }
   ],
   "source": [
    "print(pig(\"happy\")) "
   ]
  },
  {
   "cell_type": "code",
   "execution_count": 15,
   "id": "3f50df7b",
   "metadata": {},
   "outputs": [
    {
     "name": "stdout",
     "output_type": "stream",
     "text": [
      "enterway\n"
     ]
    }
   ],
   "source": [
    "print(pig(\"enter\"))"
   ]
  },
  {
   "cell_type": "markdown",
   "id": "b081c202",
   "metadata": {},
   "source": [
    "Q7:\n",
    "File bloodtype1.txt records blood-types of patients (A, B, AB, O or OO) at a clinic.\n",
    "Write a function bldcount() that reads the file with name name and reports (i.e.,\n",
    "prints) how many patients there are in each bloodtype."
   ]
  },
  {
   "cell_type": "code",
   "execution_count": 1,
   "id": "fdbc6868",
   "metadata": {},
   "outputs": [
    {
     "name": "stdout",
     "output_type": "stream",
     "text": [
      "Blood Type A: 0 patients\n",
      "Blood Type B: 0 patients\n",
      "Blood Type AB: 0 patients\n",
      "Blood Type O: 0 patients\n",
      "Blood Type OO: 0 patients\n"
     ]
    }
   ],
   "source": [
    "def bldcount(filename):\n",
    "    blood_counts = {'A': 0, 'B': 0, 'AB': 0, 'O': 0, 'OO': 0}\n",
    "    \n",
    "    with open(filename, 'r') as file:\n",
    "        for line in file:\n",
    "            blood_type = line.strip()\n",
    "            if blood_type in blood_counts:\n",
    "                blood_counts[blood_type] += 1\n",
    "    \n",
    "    for blood_type, count in blood_counts.items():\n",
    "        print(f\"Blood Type {blood_type}: {count} patients\")\n",
    "bldcount(\"bloodtype1.txt\")"
   ]
  },
  {
   "cell_type": "markdown",
   "id": "b5b03d3f",
   "metadata": {},
   "source": [
    "Question 8\n",
    "Write a function curconv() that takes as input:\n",
    "1. a currency represented using a string (e.g., 'JPY' for the Japanese Yen or\n",
    "'EUR' for the Euro)\n",
    "2. an amount\n",
    "and then converts and returns the amount in US dollars."
   ]
  },
  {
   "cell_type": "code",
   "execution_count": 3,
   "id": "e8fe01e3",
   "metadata": {},
   "outputs": [
    {
     "name": "stdout",
     "output_type": "stream",
     "text": [
      "122.96544\n",
      "1.241401\n"
     ]
    }
   ],
   "source": [
    "def curconv(currency, amount):\n",
    "    with open('currencies.txt', 'r') as file:\n",
    "        for line in file:\n",
    "            data = line.split()\n",
    "            if data[0] == currency:\n",
    "                rate = float(data[1])\n",
    "                usd_amount = amount * rate\n",
    "                return usd_amount\n",
    "    \n",
    "    return None\n",
    "\n",
    "# Example usage\n",
    "usd1 = curconv('EUR', 100)\n",
    "usd2 = curconv('JPY', 100)\n",
    "\n",
    "print(usd1)  \n",
    "print(usd2) \n",
    "\n"
   ]
  },
  {
   "cell_type": "markdown",
   "id": "d12baea9",
   "metadata": {},
   "source": [
    "Q9: Each of the following will cause an exception (an error). Identify what type of\n",
    "exception each will cause.\n",
    "Trying to add incompatible variables, as in\n",
    "adding 6 + ‘a’\n",
    "Referring to the 12th item of a list that has only 10\n",
    "items\n",
    "Using a value that is out of range for a function’s\n",
    "input, such as calling math.sqrt(-1.0)\n",
    "Using an undeclared variable, such as print(x)\n",
    "when x has not been defined\n",
    "Trying to open a file that does not exist, such as\n",
    "mistyping the file name or looking in the wrong\n",
    "directory"
   ]
  },
  {
   "cell_type": "code",
   "execution_count": 4,
   "id": "41baf26b",
   "metadata": {},
   "outputs": [
    {
     "name": "stdout",
     "output_type": "stream",
     "text": [
      "Exception: unsupported operand type(s) for +: 'int' and 'str'\n",
      "Exception: list index out of range\n",
      "Exception: math domain error\n",
      "Exception: name 'x' is not defined\n",
      "Exception: [Errno 2] No such file or directory: 'nonexistent_file.txt'\n"
     ]
    }
   ],
   "source": [
    "import math\n",
    "\n",
    "# Trying to add incompatible variables\n",
    "try:\n",
    "    result = 6 + 'a'\n",
    "except TypeError as e:\n",
    "    print(\"Exception:\", e)\n",
    "    \n",
    "# Referring to the 12th item of a list that has only 10 items\n",
    "try:\n",
    "    my_list = [1, 2, 3, 4, 5, 6, 7, 8, 9, 10]\n",
    "    item = my_list[11]\n",
    "except IndexError as e:\n",
    "    print(\"Exception:\", e)\n",
    "\n",
    "# Using a value that is out of range for a function's input\n",
    "try:\n",
    "    sqrt_result = math.sqrt(-1.0)\n",
    "except ValueError as e:\n",
    "    print(\"Exception:\", e)\n",
    "\n",
    "# Using an undeclared variable\n",
    "try:\n",
    "    print(x)\n",
    "except NameError as e:\n",
    "    print(\"Exception:\", e)\n",
    "\n",
    "# Trying to open a file that does not exist\n",
    "try:\n",
    "    file = open('nonexistent_file.txt', 'r')\n",
    "except FileNotFoundError as e:\n",
    "    print(\"Exception:\", e)\n"
   ]
  },
  {
   "cell_type": "markdown",
   "id": "1b9228f2",
   "metadata": {},
   "source": [
    "Q10: Encryption is the process of hiding the meaning of a text by substituting letters in the\n",
    "message with other letters, according to some system. If the process is successful, no\n",
    "one but the intended recipient can understand the encrypted message. Cryptanalysis\n",
    "refers to attempts to undo the encryption, even if some details of the encryption are\n",
    "unknown (for example, if an encrypted message has been intercepted). The first step\n",
    "of cryptanalysis is often to build up a table of letter frequencies in the encrypted text.\n",
    "Assume that the string letters is already defined as\n",
    "'abcdefghijklmnopqrstuvwxyz'. Write a function called frequencies()\n",
    "that takes a string as its only parameter, and returns a list of integers, showing the\n",
    "number of times each character appears in the text. Your function may ignore any\n",
    "characters that are not in letters. "
   ]
  },
  {
   "cell_type": "code",
   "execution_count": 7,
   "id": "6b5b0471",
   "metadata": {},
   "outputs": [],
   "source": [
    "def frequencies(text):\n",
    "    letters = 'abcdefghijklmnopqrstuvwxyz'\n",
    "    frequency = [0] * 26\n",
    "    \n",
    "    for char in text:\n",
    "        char = char.lower()  \n",
    "        if char in letters:\n",
    "            index = letters.index(char)  \n",
    "            frequency[index] += 1  \n",
    "    \n",
    "    return frequency\n"
   ]
  },
  {
   "cell_type": "code",
   "execution_count": 8,
   "id": "e5be9802",
   "metadata": {},
   "outputs": [
    {
     "name": "stdout",
     "output_type": "stream",
     "text": [
      "[1, 1, 1, 3, 5, 1, 1, 2, 1, 0, 1, 0, 1, 2, 4, 0, 1, 2, 0, 3, 1, 0, 1, 1, 0, 0]\n"
     ]
    }
   ],
   "source": [
    "text = \"The quick red fox got bored and went home.\"\n",
    "result = frequencies(text)\n",
    "print(result)"
   ]
  },
  {
   "cell_type": "code",
   "execution_count": 10,
   "id": "a6943b76",
   "metadata": {},
   "outputs": [
    {
     "name": "stdout",
     "output_type": "stream",
     "text": [
      "[1, 0, 0, 0, 1, 0, 0, 0, 0, 0, 0, 1, 0, 0, 0, 2, 0, 0, 0, 0, 0, 0, 0, 0, 0, 0]\n"
     ]
    }
   ],
   "source": [
    "result = frequencies(\"apple\")\n",
    "print(result)"
   ]
  },
  {
   "cell_type": "code",
   "execution_count": null,
   "id": "b38c9231",
   "metadata": {},
   "outputs": [],
   "source": []
  }
 ],
 "metadata": {
  "kernelspec": {
   "display_name": "Python 3 (ipykernel)",
   "language": "python",
   "name": "python3"
  },
  "language_info": {
   "codemirror_mode": {
    "name": "ipython",
    "version": 3
   },
   "file_extension": ".py",
   "mimetype": "text/x-python",
   "name": "python",
   "nbconvert_exporter": "python",
   "pygments_lexer": "ipython3",
   "version": "3.10.9"
  }
 },
 "nbformat": 4,
 "nbformat_minor": 5
}
